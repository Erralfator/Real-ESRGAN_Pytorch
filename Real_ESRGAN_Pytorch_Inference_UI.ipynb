{
  "nbformat": 4,
  "nbformat_minor": 0,
  "metadata": {
    "colab": {
      "provenance": [],
      "collapsed_sections": [
        "6BPxh_VmVVIu"
      ],
      "include_colab_link": true
    },
    "kernelspec": {
      "name": "python3",
      "display_name": "Python 3"
    },
    "language_info": {
      "name": "python"
    }
  },
  "cells": [
    {
      "cell_type": "markdown",
      "metadata": {
        "id": "view-in-github",
        "colab_type": "text"
      },
      "source": [
        "<a href=\"https://colab.research.google.com/github/Nick088Official/Real-ESRGAN_Pytorch/blob/main/Real_ESRGAN_Pytorch_Inference_UI.ipynb\" target=\"_parent\"><img src=\"https://colab.research.google.com/assets/colab-badge.svg\" alt=\"Open In Colab\"/></a>"
      ]
    },
    {
      "cell_type": "markdown",
      "metadata": {
        "id": "IRDbDYYMQt_Y"
      },
      "source": [
        "# Real-ESRGAN Pytorch Inference UI\n",
        "\n",
        "[![arXiv](https://img.shields.io/badge/arXiv-Paper-<COLOR>.svg)](https://arxiv.org/abs/2107.10833)\n",
        "[![GitHub Stars](https://img.shields.io/github/stars/Nick088Official/Real-ESRGAN_Pytorch?style=social)](https://github.com/Nick088Official/Real-ESRGAN_Pytorch)\n",
        "\n",
        "This is a **Practical Image Restoration Demo** of the Pytorch ai-forever custom pretrained Real-ESRGAN models.\n",
        "We extend the powerful ESRGAN to a practical restoration application (namely, Real-ESRGAN), which is trained with pure synthetic data. <br>\n",
        "The following figure shows some real-life examples.\n",
        "\n",
        "Low quality image:\n",
        "\n",
        "![](https://github.com/Nick088Official/Real-ESRGAN-Pytorch/blob/main/inputs/lr_lion.png?raw=1)\n",
        "\n",
        "Real-ESRGAN_Pytorch result:\n",
        "\n",
        "![](https://github.com/Nick088Official/Real-ESRGAN-Pytorch/blob/main/results/sr_lion.png?raw=1)\n",
        "\n",
        "**Note that Real-ESRGAN may still fail in some cases as the real-world degradations are really too complex.**<br>\n",
        "Moreover, it **may not** perform well on human faces, you could try [GFPGAN](https://colab.research.google.com/github/Nick088Official/GFPGAN-Fix/blob/master/GFPGAN_fix_inference.ipynb) for that\n",
        "<br>\n",
        "\n",
        "This is the Pytorch Implementation of https://github.com/ai-forever/Real-ESRGAN\n",
        "\n",
        "Google Colab Notebook based on [the Hugging Face Space](https://huggingface.co/spaces/Nick088/Real-ESRGAN_Pytorch)\n",
        "\n",
        "**Credits:** [Nick088](https://linktr.ee/Nick088), Xinntao, Tencent, Geeve George, ai-forever, daroche"
      ]
    },
    {
      "cell_type": "code",
      "metadata": {
        "id": "GnpnrLfMV2jU",
        "cellView": "form"
      },
      "source": [
        "#@title Installation\n",
        "#@markdown Before running, make sure that you choose\n",
        "#@markdown * Runtime Type = Python 3\n",
        "#@markdown * Hardware Accelerator = GPU (Faster, free daily limit of gpu around 12 hours) or CPU (very slow)\n",
        "\n",
        "#@markdown in the **Runtime** menu -> **Change runtime type**\n",
        "\n",
        "#@markdown By running this, we clone the repository, set up the envrironment.\n",
        "\n",
        "\n",
        "from IPython.display import clear_output\n",
        "import torch\n",
        "\n",
        "if torch.cuda.is_available():\n",
        "    device = \"cuda\"\n",
        "    print(\"Using GPU\")\n",
        "else:\n",
        "    device = \"cpu\"\n",
        "    print(\"Using CPU, you won't be able to use v1 model\")\n",
        "\n",
        "!git clone https://huggingface.co/spaces/Nick088/Real-ESRGAN_Pytorch\n",
        "%cd Real-ESRGAN_Pytorch\n",
        "!pip install -r requirements.txt\n",
        "clear_output()\n",
        "print(\"Installed!\")"
      ],
      "execution_count": null,
      "outputs": []
    },
    {
      "cell_type": "code",
      "source": [
        "#@title Run UI\n",
        "def replace_line_in_file(file_path, line_number, new_line):\n",
        "    try:\n",
        "        # Read the existing file content\n",
        "        with open(file_path, 'r') as file:\n",
        "            lines = file.readlines()\n",
        "\n",
        "        # Check if the line number is valid\n",
        "        if 1 <= line_number <= len(lines):\n",
        "            # Replace the line\n",
        "            lines[line_number - 1] = new_line\n",
        "\n",
        "            # Write the updated content back to the file\n",
        "            with open(file_path, 'w') as file:\n",
        "                file.writelines(lines)\n",
        "            return True\n",
        "        else:\n",
        "            print(f\"Error: Line number {line_number} is out of range.\")\n",
        "            return False\n",
        "    except Exception as e:\n",
        "        print(f\"Error: {str(e)}\")\n",
        "        return False\n",
        "\n",
        "\n",
        "file_path = \"app.py\"\n",
        "line_number = 33\n",
        "new_line = \"demo.launch(share=True, debug=True, show_error=True)\"\n",
        "\n",
        "if replace_line_in_file(file_path, line_number, new_line):\n",
        "    print(f\"Line {line_number} in {file_path} was successfully replaced.\")\n",
        "    clear_output()\n",
        "else:\n",
        "    print(f\"Failed to replace line {line_number} in {file_path}.\")\n",
        "\n",
        "\n",
        "!python app.py"
      ],
      "metadata": {
        "cellView": "form",
        "id": "JYB4eIk9f3P_"
      },
      "execution_count": null,
      "outputs": []
    }
  ]
}